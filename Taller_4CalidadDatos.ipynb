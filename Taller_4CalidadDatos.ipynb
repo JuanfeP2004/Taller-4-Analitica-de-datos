{
  "nbformat": 4,
  "nbformat_minor": 0,
  "metadata": {
    "colab": {
      "provenance": [],
      "authorship_tag": "ABX9TyO0ELUMYOKtkPKoW5oxx/iJ",
      "include_colab_link": true
    },
    "kernelspec": {
      "name": "python3",
      "display_name": "Python 3"
    },
    "language_info": {
      "name": "python"
    }
  },
  "cells": [
    {
      "cell_type": "markdown",
      "metadata": {
        "id": "view-in-github",
        "colab_type": "text"
      },
      "source": [
        "<a href=\"https://colab.research.google.com/github/JuanfeP2004/Taller-4-Analitica-de-datos/blob/main/Taller_4CalidadDatos.ipynb\" target=\"_parent\"><img src=\"https://colab.research.google.com/assets/colab-badge.svg\" alt=\"Open In Colab\"/></a>"
      ]
    },
    {
      "cell_type": "markdown",
      "source": [
        "#**Practica 4 de analitica de datos**\n",
        "###Juan Felipe Ramírez Castañeda\n",
        "###Aura Marcela Arbelaez"
      ],
      "metadata": {
        "id": "3KQPvrw3poLr"
      }
    },
    {
      "cell_type": "markdown",
      "source": [
        "##**1. Calidad de datos**\n",
        "##**2. Modelos de datos**"
      ],
      "metadata": {
        "id": "q8nPkQRWqZz9"
      }
    },
    {
      "cell_type": "code",
      "execution_count": 1,
      "metadata": {
        "id": "CClcUjrWg6UQ"
      },
      "outputs": [],
      "source": [
        "#Importaciones\n",
        "import pandas as pd # manipulacion dataframes\n",
        "import numpy as np  # matrices y vectores\n",
        "import matplotlib.pyplot as plt #gráfica"
      ]
    },
    {
      "cell_type": "code",
      "source": [
        "datos = pd.read_csv('Sleep_health_and_lifestyle_dataset.csv', sep=\",\", na_filter=False)\n",
        "datos.head()"
      ],
      "metadata": {
        "id": "HJNiOhwlPxPd"
      },
      "execution_count": null,
      "outputs": []
    },
    {
      "cell_type": "code",
      "source": [
        "datos.info()"
      ],
      "metadata": {
        "id": "uwJZJUDYRDra"
      },
      "execution_count": null,
      "outputs": []
    },
    {
      "cell_type": "markdown",
      "source": [
        "#**1 Calidad de datos**"
      ],
      "metadata": {
        "id": "YDPH63fcN3Yp"
      }
    },
    {
      "cell_type": "markdown",
      "source": [
        "#**1.1 Visualización de los datos**"
      ],
      "metadata": {
        "id": "kTdXACUIX6XL"
      }
    },
    {
      "cell_type": "code",
      "source": [
        "datos['Gender'] = datos['Gender'].astype('category')\n",
        "datos['Occupation'] = datos['Occupation'].astype('category')\n",
        "datos['BMI Category'] = datos['BMI Category'].astype('category')\n",
        "datos['Blood Pressure'] = datos['Blood Pressure'].astype('category')\n",
        "datos['Sleep Disorder'] = datos['Sleep Disorder'].astype('category')\n",
        "datos.info()"
      ],
      "metadata": {
        "id": "KXQTilFcN7Rf"
      },
      "execution_count": null,
      "outputs": []
    },
    {
      "cell_type": "code",
      "source": [
        "#Instalar pandas profiling\n",
        "!pip install ydata-profiling"
      ],
      "metadata": {
        "id": "b6cII9PbRy-x"
      },
      "execution_count": null,
      "outputs": []
    },
    {
      "cell_type": "code",
      "source": [
        "# Cargar librería para Profiling\n",
        "from ydata_profiling import ProfileReport\n",
        "\n",
        "profile_data=ProfileReport(datos, minimal=False) # minimal=True\n",
        "profile_data"
      ],
      "metadata": {
        "id": "qH3r03eFR7Eh"
      },
      "execution_count": null,
      "outputs": []
    },
    {
      "cell_type": "code",
      "source": [
        "#Guardamos en html el perfilado de datos\n",
        "profile_data.to_file(output_file=\"output.html\")"
      ],
      "metadata": {
        "id": "KSFPir7PSQ-Y"
      },
      "execution_count": null,
      "outputs": []
    },
    {
      "cell_type": "markdown",
      "source": [
        "# **Dimensiones de la Calidad de Datos**\n",
        "\n",
        "**Completitud:** ¿Está toda la información disponible? ¿Hay datos faltantes o ausentes?\n",
        "\n",
        "**Exactitud:**¿La información es correcta y libre de error?\n",
        "\n",
        "**Conformidad:** ¿Los valores de los datos están conformes con los formatos esperados? Ejemplo: Una fecha en formato AAAA/MM/DD cuando debería ser DD/MM/AAAA.\n",
        "\n",
        "**Oportunidad:** ¿La información llega cuando se necesita?\n",
        "\n",
        "**Duplicidad:** ¿Existen múltiples instancias, innecesarias de los mismos objetos de datos en el conjunto de datos?\n",
        "\n",
        "**Integridad:** ¿Faltan datos relacionados importantes? ¿Es clara la conectividad y las relaciones con otros datos?"
      ],
      "metadata": {
        "id": "XSOXk6tUSTvo"
      }
    },
    {
      "cell_type": "markdown",
      "source": [
        "# **Diagnóstico de las dimensiones según el perfilado:**\n",
        "* Completitud: Si ya que no existen nulos.\n",
        "* Exactitud: No, hay algunos datos atipicos como categorias que se repiten (sales representative/salesperson) (normal/normal weight)\n",
        "* Conformidad: No, la presion esta en un formato categorico como SBP/DBP, cuando las variables deberian estar separadas y ser numericas.\n",
        "* Oportunidad: No hay forma de saberlo ya que los datos no tienen una fecha especifica de recolección\n",
        "* Duplicidad: No, todos los datos son unicos como nos lo muestra el ID\n",
        "* Integridad: En general hay bastantes variables y con buena relación, aunque podrian agregarse variables que pudieran relacionarse como la alimentación y el estado mental de los pacientes."
      ],
      "metadata": {
        "id": "eUxamRYiV8vA"
      }
    },
    {
      "cell_type": "markdown",
      "source": [
        "#**1.2 Calidad de datos**\n",
        "1. Seleccion de datos\n",
        "2. Separacion de variables\n",
        "3. Eliminación de atipicos\n",
        "4. Inputación de nulos\n",
        "5. Separación de las variables"
      ],
      "metadata": {
        "id": "KH4FpkGAXLaf"
      }
    },
    {
      "cell_type": "markdown",
      "source": [
        "Seleccion de datos"
      ],
      "metadata": {
        "id": "jgyQdEdrSZY3"
      }
    },
    {
      "cell_type": "code",
      "source": [
        "#Seleccion de datos\n",
        "# Variables irrelevantes para el proceso de minería\n",
        "datos = datos.drop('Person ID',axis=1) #Eliminamos el ID por ser irrelevante, axis=1 indica que es una columna\n",
        "datos.head()"
      ],
      "metadata": {
        "id": "rixM-0nTQyCk"
      },
      "execution_count": null,
      "outputs": []
    },
    {
      "cell_type": "markdown",
      "source": [
        "Separacion de variables"
      ],
      "metadata": {
        "id": "Mfh34r-3Sbq1"
      }
    },
    {
      "cell_type": "code",
      "source": [
        "# Se separan los datos\n",
        "datos[['Systolic Blood Presure', 'Diastolic Blood Presure']] = datos['Blood Pressure'].str.split('/', expand=True)\n",
        "datos = datos.drop(columns=['Blood Pressure'])\n",
        "datos.head()"
      ],
      "metadata": {
        "id": "-zpwwbvwSjFP"
      },
      "execution_count": null,
      "outputs": []
    },
    {
      "cell_type": "code",
      "source": [
        "# Se reorganizan las columnas\n",
        "sbp = datos.pop('Systolic Blood Presure')\n",
        "dbp = datos.pop('Diastolic Blood Presure')\n",
        "datos.insert(9, 'Systolic Blood Presure', sbp)\n",
        "datos.insert(10, 'Diastolic Blood Presure', dbp)\n",
        "datos.head()"
      ],
      "metadata": {
        "id": "tqUFqEORTN8I"
      },
      "execution_count": null,
      "outputs": []
    },
    {
      "cell_type": "markdown",
      "source": [
        "Eliminacion de atipicos"
      ],
      "metadata": {
        "id": "RKzVEl2JSfLL"
      }
    },
    {
      "cell_type": "code",
      "source": [
        "#Se asigna valor nulo a los atípicos\n",
        "datos.Occupation[datos[\"Occupation\"]==\"Sales Representative\"]=np.nan #Nulo\n",
        "datos['BMI Category'][datos['BMI Category']==\"Normal Weight\"]=np.nan #Nulo\n",
        "datos.info()"
      ],
      "metadata": {
        "id": "7Hkk3xrwSe0q"
      },
      "execution_count": null,
      "outputs": []
    },
    {
      "cell_type": "markdown",
      "source": [
        "Imputacion de nulos"
      ],
      "metadata": {
        "id": "1cqMXCdoSkFB"
      }
    },
    {
      "cell_type": "code",
      "source": [
        "#Limpieza de datos nulos: Imputación por la media y moda, (Para variables con menos del 15-20% de nulos)\n",
        "from sklearn.impute import SimpleImputer\n",
        "\n",
        "#Imputacion de variables categóricas: moda\n",
        "ImpCategorias = SimpleImputer(missing_values=np.nan, strategy='most_frequent')\n",
        "datos[['Occupation', 'BMI Category']] = ImpCategorias.fit_transform(datos[['Occupation', 'BMI Category']])\n",
        "\n",
        "datos.info()"
      ],
      "metadata": {
        "id": "TaxAMbn4Slsx"
      },
      "execution_count": null,
      "outputs": []
    },
    {
      "cell_type": "markdown",
      "source": [
        "#**1.3 Mejora de los datos**"
      ],
      "metadata": {
        "id": "MLVkpqOMYJTI"
      }
    }
  ]
}