{
  "nbformat": 4,
  "nbformat_minor": 0,
  "metadata": {
    "colab": {
      "provenance": [],
      "authorship_tag": "ABX9TyMqueQCl2VbY7Z+q/v+qIOx",
      "include_colab_link": true
    },
    "kernelspec": {
      "name": "python3",
      "display_name": "Python 3"
    },
    "language_info": {
      "name": "python"
    }
  },
  "cells": [
    {
      "cell_type": "markdown",
      "metadata": {
        "id": "view-in-github",
        "colab_type": "text"
      },
      "source": [
        "<a href=\"https://colab.research.google.com/github/JuanfeP2004/Taller-4-Analitica-de-datos/blob/main/Taller_4Streamlite.ipynb\" target=\"_parent\"><img src=\"https://colab.research.google.com/assets/colab-badge.svg\" alt=\"Open In Colab\"/></a>"
      ]
    },
    {
      "cell_type": "markdown",
      "source": [
        "#**Despliegue en Streamlit**"
      ],
      "metadata": {
        "id": "NH5iv1WOGt2g"
      }
    },
    {
      "cell_type": "code",
      "execution_count": null,
      "metadata": {
        "id": "Pe92u0zPdn4i"
      },
      "outputs": [],
      "source": [
        "#Instalación\n",
        "!pip install streamlit"
      ]
    },
    {
      "cell_type": "code",
      "execution_count": null,
      "metadata": {
        "id": "I0YWkDOYGpwr"
      },
      "outputs": [],
      "source": [
        "#Correr la app en background, recuerda cargar el archivo app.py\n",
        "!nohup streamlit run app.py &"
      ]
    },
    {
      "cell_type": "code",
      "source": [
        "!npm install localtunnel"
      ],
      "metadata": {
        "id": "ox3EQoiAHDfV"
      },
      "execution_count": null,
      "outputs": []
    },
    {
      "cell_type": "code",
      "source": [
        "import urllib.request\n",
        "\n",
        "print(\"Password/Enpoint IP for localtunnel is:\",urllib.request.urlopen('https://ipv4.icanhazip.com').read().decode('utf8').strip(\"\\n\"))\n",
        "\n",
        "\n",
        "\n",
        "#Se crea un túnel hacia un servidor local que se está ejecutando en el puerto 8501.\n",
        "!npx localtunnel --port 8501\n"
      ],
      "metadata": {
        "id": "A7-0MpBtHF9Q"
      },
      "execution_count": null,
      "outputs": []
    }
  ]
}